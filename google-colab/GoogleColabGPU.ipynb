{
 "cells": [
  {
   "cell_type": "code",
   "execution_count": null,
   "metadata": {},
   "outputs": [],
   "source": [
    "# RUNNING FOR THE FIRST TIME: Load & cd into gdrive for persistent data\n",
    "from google.colab import drive\n",
    "drive.mount('/content/gdrive')\n",
    "%cd gdrive/'My Drive'\n",
    "\n",
    "# Download/Install/Configure CUDALucas\n",
    "!wget https://raw.github.com/tdulcet/Linux-System-Information/master/info.sh -qO - | bash -s # Check System Info\n",
    "!nvidia-smi --query-gpu=gpu_name --format=csv,noheader # Output what GPU is assigned to this Notebook\n",
    "!wget https://raw.github.com/tdulcet/Distributed-Computing-Scripts/master/cudalucas.sh -q\n",
    "!sed -i '/^GPU=/,/^fi/ s/^/# /' cudalucas.sh # Do not check for an Nvidia GPU\n",
    "!sed -i '/^nohup / s/^/# /' cudalucas.sh # Do not start PrimeNet\n",
    "!sed -i '/^crontab / s/^/# /' cudalucas.sh # Do not create a cronjob\n",
    "!bash -- cudalucas.sh \"\" # Do not pass any additional parameters here\n",
    "%cd cudalucas\n",
    "!chmod -R 777 * # Gdrive permissions are strict, make them lax.\n",
    "!nohup python primenet.py -d -T 100 -u USERNAME -p PASSWORD & # Start PrimeNet. Replace USERNAME, PASSWORD with your actual GIMPS Username & Password\n",
    "!sleep 1\n",
    "!sudo nice -n -20 ./CUDALucas # Start CUDALucas"
   ]
  },
  {
   "cell_type": "code",
   "execution_count": null,
   "metadata": {},
   "outputs": [],
   "source": [
    "# RUNNING SUBSEQUENT TIMES: Restarting CUDALucas when Colab/you shut the process/notebook down\n",
    "from google.colab import drive\n",
    "drive.mount('/content/gdrive')\n",
    "%cd gdrive/'My Drive'/cudalucas\n",
    "!chmod -R 777 * # Gdrive permissions are strict, make them lax.\n",
    "!nohup python primenet.py -d -T 100 -u USERNAME -p PASSWORD & # Start PrimeNet. Replace USERNAME, PASSWORD with your actual GIMPS Username & Password\n",
    "!sleep 1\n",
    "!sudo nice -n -20 ./CUDALucas # Start CUDALucas"
   ]
  },
  {
   "cell_type": "code",
   "execution_count": 1,
   "metadata": {},
   "outputs": [],
   "source": [
    "# DEBUGGING\n",
    "!nvidia-smi --query-gpu=gpu_name --format=csv,noheader # Output what GPU is assigned to this Notebook"
   ]
  }
 ],
 "metadata": {
  "kernelspec": {
   "display_name": "Python 3",
   "language": "python",
   "name": "python3"
  },
  "language_info": {
   "codemirror_mode": {
    "name": "ipython",
    "version": 3
   },
   "file_extension": ".py",
   "mimetype": "text/x-python",
   "name": "python",
   "nbconvert_exporter": "python",
   "pygments_lexer": "ipython3",
   "version": "3.6.9"
  }
 },
 "nbformat": 4,
 "nbformat_minor": 2
}
