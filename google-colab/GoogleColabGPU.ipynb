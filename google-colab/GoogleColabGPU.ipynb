{
 "cells": [
  {
   "cell_type": "code",
   "execution_count": 1,
   "metadata": {
    "scrolled": false
   },
   "outputs": [
    {
     "ename": "ModuleNotFoundError",
     "evalue": "No module named 'google.colab'",
     "output_type": "error",
     "traceback": [
      "\u001b[0;31m---------------------------------------------------------------------------\u001b[0m",
      "\u001b[0;31mModuleNotFoundError\u001b[0m                       Traceback (most recent call last)",
      "\u001b[0;32m<ipython-input-1-ab6dfac58026>\u001b[0m in \u001b[0;36m<module>\u001b[0;34m\u001b[0m\n\u001b[1;32m      1\u001b[0m \u001b[0;31m# RUNNING FOR THE FIRST TIME: Load & cd into gdrive for persistent data\u001b[0m\u001b[0;34m\u001b[0m\u001b[0;34m\u001b[0m\u001b[0;34m\u001b[0m\u001b[0m\n\u001b[0;32m----> 2\u001b[0;31m \u001b[0;32mfrom\u001b[0m \u001b[0mgoogle\u001b[0m\u001b[0;34m.\u001b[0m\u001b[0mcolab\u001b[0m \u001b[0;32mimport\u001b[0m \u001b[0mdrive\u001b[0m\u001b[0;34m\u001b[0m\u001b[0;34m\u001b[0m\u001b[0m\n\u001b[0m\u001b[1;32m      3\u001b[0m \u001b[0mdrive\u001b[0m\u001b[0;34m.\u001b[0m\u001b[0mmount\u001b[0m\u001b[0;34m(\u001b[0m\u001b[0;34m'/content/gdrive'\u001b[0m\u001b[0;34m)\u001b[0m\u001b[0;34m\u001b[0m\u001b[0;34m\u001b[0m\u001b[0m\n\u001b[1;32m      4\u001b[0m \u001b[0mget_ipython\u001b[0m\u001b[0;34m(\u001b[0m\u001b[0;34m)\u001b[0m\u001b[0;34m.\u001b[0m\u001b[0mrun_line_magic\u001b[0m\u001b[0;34m(\u001b[0m\u001b[0;34m'cd'\u001b[0m\u001b[0;34m,\u001b[0m \u001b[0;34m\"gdrive/'My Drive'\"\u001b[0m\u001b[0;34m)\u001b[0m\u001b[0;34m\u001b[0m\u001b[0;34m\u001b[0m\u001b[0m\n\u001b[1;32m      5\u001b[0m \u001b[0;34m\u001b[0m\u001b[0m\n",
      "\u001b[0;31mModuleNotFoundError\u001b[0m: No module named 'google.colab'"
     ]
    }
   ],
   "source": [
    "# RUNNING FOR THE FIRST TIME: Load & cd into gdrive for persistent data\n",
    "from google.colab import drive\n",
    "drive.mount('/content/gdrive')\n",
    "%cd gdrive/'My Drive'\n",
    "\n",
    "# Download/Install/Configure CUDALucas\n",
    "!wget https://raw.github.com/tdulcet/Linux-System-Information/master/info.sh -qO - | bash -s # Check System Info\n",
    "!nvidia-smi --query-gpu=gpu_name --format=csv,noheader # Output what GPU is assigned to this Notebook\n",
    "!wget https://raw.github.com/tdulcet/Distributed-Computing-Scripts/master/cudalucas.sh -q # download CUDALucas\n",
    "!sed -i '/^if ! COMPUTE=/,/^fi/!b; /^fi/a echo \"$COMPUTE\"' cudalucas.sh # Output CUDA compute capability of GPU\n",
    "!sed -i 's/\\/$COMPUTE/\\/--generate-code arch=compute_35,code=sm_35 --generate-code arch=compute_50,code=sm_50 --generate-code arch=compute_60,code=sm_60 --generate-code arch=compute_70,code=sm_70 --generate-code arch=compute_75,code=sm_75/' cudalucas.sh\n",
    "!sed -i '/^GPU=/,/^fi/ s/^/# /' cudalucas.sh # Do not check for an Nvidia GPU\n",
    "!sed -i '/^nohup / s/^/# /' cudalucas.sh # Do not start PrimeNet\n",
    "!sed -i '/^crontab / s/^/# /' cudalucas.sh # Do not create a cronjob\n",
    "!bash -- cudalucas.sh \"\" # Do not pass any additional parameters here\n",
    "\n",
    "# Download/Install/Configure Prime95\n",
    "!wget https://raw.github.com/tdulcet/Linux-System-Information/master/info.sh -qO - | bash -s # Check System Info\n",
    "!wget https://raw.github.com/tdulcet/Distributed-Computing-Scripts/master/mprime.sh -q # Download Prime95\n",
    "!sed -i '/^nohup / s/^/# /' mprime.sh # Do not start Prime95\n",
    "!sed -i '/^crontab / s/^/# /' mprime.sh # Do not create a cronjob\n",
    "!sed -i 's/\"mprime\"/\"mprime_gpu\"/' mprime.sh # Name the folder specific to the runtime type\n",
    "!bash -- mprime.sh psu # Replace 'psu' with your own username if you wish and, optionally, a name for the machine\n",
    "\n",
    "!cd cudalucas; nohup python primenet.py -d -T 100 -u psu -p vikings & # Start PrimeNet. If you wish, replace 'psu' & 'vikings' with your GIMPS Username & Password\n",
    "!sleep 1.5\n",
    "!cd cudalucas && chmod 777 CUDALucas; nohup ./CUDALucas & \n",
    "!cd mprime_gpu && chmod 777 mprime && ./mprime -d"
   ]
  },
  {
   "cell_type": "code",
   "execution_count": null,
   "metadata": {},
   "outputs": [],
   "source": [
    "# RUNNING SUBSEQUENT TIMES: Restarting CUDALucas when Colab/you shut the process/notebook down\n",
    "from google.colab import drive\n",
    "drive.mount('/content/gdrive')\n",
    "%cd gdrive/'My Drive'/\n",
    "!cd cudalucas; nohup python primenet.py -d -T 100 -u psu -p vikings & # Start PrimeNet. If you wish, replace 'psu' & 'vikings' with your GIMPS Username & Password\n",
    "!sleep 1.5\n",
    "!cd cudalucas && chmod 777 CUDALucas; nohup ./CUDALucas & \n",
    "!cd mprime_gpu && chmod 777 mprime && ./mprime -d"
   ]
  },
  {
   "cell_type": "code",
   "execution_count": 1,
   "metadata": {},
   "outputs": [],
   "source": [
    "# DEBUGGING\n",
    "!nvidia-smi --query-gpu=gpu_name --format=csv,noheader # Output what GPU is assigned to this Notebook\n",
    "!tail -n 100 cudalucas/nohup.out # view CUDALucas progress"
   ]
  }
 ],
 "metadata": {
  "kernelspec": {
   "display_name": "Python 3",
   "language": "python",
   "name": "python3"
  },
  "language_info": {
   "codemirror_mode": {
    "name": "ipython",
    "version": 3
   },
   "file_extension": ".py",
   "mimetype": "text/x-python",
   "name": "python",
   "nbconvert_exporter": "python",
   "pygments_lexer": "ipython3",
   "version": "3.6.9"
  }
 },
 "nbformat": 4,
 "nbformat_minor": 2
}
