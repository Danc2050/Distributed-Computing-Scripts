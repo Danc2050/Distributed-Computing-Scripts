{
 "cells": [
  {
   "cell_type": "markdown",
   "metadata": {
    "colab_type": "text",
    "id": "view-in-github"
   },
   "source": [
    "<a href=\"https://colab.research.google.com/github/Danc2050/Distributed-Computing-Scripts/blob/master/google-colab/GoogleColabCPU.ipynb\" target=\"_parent\"><img src=\"https://colab.research.google.com/assets/colab-badge.svg\" alt=\"Open In Colab\"/></a>"
   ]
  },
  {
   "cell_type": "code",
   "execution_count": null,
   "metadata": {},
   "outputs": [],
   "source": [
    "#@title <strong> <h1>📔 Colab CPU Notebook</strong></h1> #{ output-height: 8, form-width: \"100%\", display-mode: \"form\" }\n",
    "\n",
    "#@markdown <h4>↖️ Click the ▶ button after deciding on the options below.</h4>\n",
    "#@markdown <h4>📜 See <a href=\"https://github.com/Danc2050/Distributed-Computing-Scripts/tree/master/google-colab\" target=\"_blank\">source code</a> for more information.</h4>\n",
    "#@markdown <h4>💡 Keep each notebook <strong>open</strong> in your browser to prevent disconnection. (📌 pin the tab or 🗗 move it to a dedicated window)</h4>\n",
    "#@markdown <h4>🤷‍♂️ Optionally, create a GIMPS/PrimeNet account <a href=\"https://www.mersenne.org/update/\" target=\"_blank\">here</a>.</h4>\n",
    "\n",
    "prime_ID = 'Default' #@param ['Default'] {allow-input: true}\n",
    "computer_name = 'Default' #@param ['Default'] {allow-input: true}\n",
    "type_of_work = '100 - First time LL tests' #@param ['0 - Whatever makes the most sense', '100 - First time LL tests', '101 - Double-check LL tests', '102 - World record LL tests', '104 - 100 million digit LL tests', '150 - First time PRP tests', '151 - Double-check PRP tests', '152 - World record PRP tests', '154 - 100 million digit PRP tests']\n",
    "\n",
    "# Load & cd into gdrive for persistent data\n",
    "from google.colab import drive\n",
    "import os\n",
    "drive.mount('/content/gdrive')\n",
    "%cd gdrive/'My Drive'\n",
    "\n",
    "def run():\n",
    "  # Run Mprime\n",
    "  !cd mprime_cpu && chmod 777 mprime && ./mprime -d # `-d` prevents VM from shutting down.\n",
    "\n",
    "def install():\n",
    "  # Download/Install/Configure Prime95\n",
    "  !rm mprime.sh # remove any old download of the Prime95 script\n",
    "  !wget https://raw.github.com/tdulcet/Linux-System-Information/master/info.sh -qO - | bash -s # Check System Info\n",
    "  !wget https://raw.github.com/tdulcet/Distributed-Computing-Scripts/master/mprime.sh -q # Download Prime95 script\n",
    "  !sed -i '/^nohup / s/^/# /' mprime.sh # Do not start Prime95\n",
    "  !sed -i '/^crontab / s/^/# /' mprime.sh # Do not create a cronjob\n",
    "  !sed -i 's/\"mprime\"/\"mprime_cpu\"/' mprime.sh # Name the folder specific to the runtime type\n",
    "  !bash -- mprime.sh \\\"\"$prime_ID\\\"\" \\\"\"$computer_name\\\"\" $type_of_work # Run script\n",
    "\n",
    "# use/cleanup input from user\n",
    "prime_ID = 'psu' if prime_ID.lower() == 'default' else prime_ID\n",
    "computers_name = \"\" if computer_name.lower() == 'default' else computer_name\n",
    "type_of_work = type_of_work.split(\"-\")[0].rstrip()\n",
    "\n",
    "if not os.path.exists('mprime_cpu'):\n",
    "  install()\n",
    "run()\n",
    "\n",
    "print(\"Gracefully exiting...\")"
   ]
  }
 ],
 "metadata": {
  "kernelspec": {
   "display_name": "Python 3",
   "language": "python",
   "name": "python3"
  },
  "language_info": {
   "codemirror_mode": {
    "name": "ipython",
    "version": 3
   },
   "file_extension": ".py",
   "mimetype": "text/x-python",
   "name": "python",
   "nbconvert_exporter": "python",
   "pygments_lexer": "ipython3",
   "version": "3.6.9"
  }
 },
 "nbformat": 4,
 "nbformat_minor": 2
}
