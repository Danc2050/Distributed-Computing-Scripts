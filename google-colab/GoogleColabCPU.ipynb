{
 "cells": [
  {
   "cell_type": "markdown",
   "metadata": {
    "colab_type": "text",
    "id": "view-in-github"
   },
   "source": [
    "<a href=\"https://colab.research.google.com/github/Danc2050/Distributed-Computing-Scripts/blob/master/google-colab/GoogleColabCPU.ipynb\" target=\"_parent\"><img src=\"https://colab.research.google.com/assets/colab-badge.svg\" alt=\"Open In Colab\"/></a>"
   ]
  },
  {
   "cell_type": "code",
   "execution_count": null,
   "metadata": {},
   "outputs": [],
   "source": [
    "#@markdown <strong> <h2> Colab CPU Notebook </h2></strong> \n",
    "#@markdown <h4>📜 Please see <a href=\"https://github.com/Danc2050/Distributed-Computing-Scripts/tree/master/google-colab\"> source code</a> for more information.</h4>\n",
    "#@markdown <h4>🤷 Optionally, you may create a GIMPS/PrimeNet account <a href=\"https://www.mersenne.org/update/\">here.</a></h4>\n",
    "#@markdown <h4>👷🏽‍♀️ Work Types </h4>\n",
    "#@markdown <blockquote> <li> 0 - Whatever makes the most sense </li>\n",
    "#@markdown  <li> 100 - First time LL tests </li>\n",
    "#@markdown  <li> 101 - Double-check LL tests </li>\n",
    "#@markdown  <li> 102 - World record LL tests </li>\n",
    "#@markdown  <li> 104 - 100 million digit LL tests </li>\n",
    "#@markdown  <li> 150 - First time PRP tests </li>\n",
    "#@markdown  <li> 151 - Double-check PRP tests </li>\n",
    "#@markdown  <li> 152 - World record PRP tests </li>\n",
    "#@markdown  <li> 154 - 100 million digit PRP tests </li></blockquote>\n",
    "prime_ID = 'Default' #@param [] {allow-input: true}\n",
    "type_of_work = '100' #@param [0, 100, 101, 102, 104, 150, 151, 152, 154]\n",
    "computer_name = 'Default' #@param [] {allow-input: true}\n",
    "\n",
    "def run():\n",
    "  # Run Mprime\n",
    "  !cd mprime_cpu && chmod 777 mprime && ./mprime -d # `-d` prevents VM from shutting down.\n",
    "\n",
    "def install():\n",
    "  # Download/Install/Configure Prime95\n",
    "  !wget https://raw.github.com/tdulcet/Linux-System-Information/master/info.sh -qO - | bash -s # Check System Info\n",
    "  !rm mprime.sh # remove any old download of the Prime95 script\n",
    "  !wget https://raw.github.com/tdulcet/Distributed-Computing-Scripts/master/mprime.sh -q # Download Prime95 script\n",
    "  !sed -i '/^nohup / s/^/# /' mprime.sh # Do not start Prime95\n",
    "  !sed -i '/^crontab / s/^/# /' mprime.sh # Do not create a cronjob\n",
    "  !sed -i 's/\"mprime\"/\"mprime_cpu\"/' mprime.sh # Name the folder specific to the runtime type\n",
    "  !bash -- mprime.sh psu computer_name type_of_work # Run script\n",
    "  run()\n",
    "\n",
    "# Load & cd into gdrive for persistent data\n",
    "from google.colab import drive\n",
    "drive.mount('/content/gdrive')\n",
    "%cd gdrive/'My Drive'\n",
    "\n",
    "# use input from user\n",
    "prime_ID = \"\" if prime_ID == 'Default' else prime_ID\n",
    "computer_name = \"\" if computer_name == 'Default' else computer_name\n",
    "\n",
    "if os.path.exists('mprime_cpu'): #[do what we would have done in the second cell\n",
    "  run()\n",
    "\n",
    "else:\n",
    "  install()\n",
    "\n",
    "print(\"Gracefully exiting...\")"
   ]
  }
 ],
 "metadata": {
  "kernelspec": {
   "display_name": "Python 3",
   "language": "python",
   "name": "python3"
  },
  "language_info": {
   "codemirror_mode": {
    "name": "ipython",
    "version": 3
   },
   "file_extension": ".py",
   "mimetype": "text/x-python",
   "name": "python",
   "nbconvert_exporter": "python",
   "pygments_lexer": "ipython3",
   "version": "3.6.9"
  }
 },
 "nbformat": 4,
 "nbformat_minor": 2
}
