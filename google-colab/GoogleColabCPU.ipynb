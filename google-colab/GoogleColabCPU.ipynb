{
  "cells": [
  {   
    "cell_type": "markdown",
    "metadata": {
      "id": "view-in-github",
      "colab_type": "text"
    },  
    "source": [
      "<a href=\"https://colab.research.google.com/github/Danc2050/Distributed-Computing-Scripts/blob/master/google-colab/GoogleColabCPU.ipynb\" target=\"_parent\"><img src=\"https://colab.research.google.com/assets/colab-badge.svg\" alt=\"Open In Colab\"/></a>"
    ]   
  },  
  {
   "cell_type": "code",
   "execution_count": null,
   "metadata": {},
   "outputs": [],
   "source": [
    "# RUNNING FOR THE FIRST TIME: Load & cd into gdrive for persistent data\n",
    "from google.colab import drive\n",
    "drive.mount('/content/gdrive')\n",
    "%cd gdrive/'My Drive'\n",
    "\n",
    "# Download/Install/Configure Prime95\n",
    "!wget https://raw.github.com/tdulcet/Linux-System-Information/master/info.sh -qO - | bash -s # Check System Info\n",
    "!rm mprime.sh # remove any old download of the Prime95 script\n",
    "!wget https://raw.github.com/tdulcet/Distributed-Computing-Scripts/master/mprime.sh -q # Download Prime95 script\n",
    "!sed -i '/^nohup / s/^/# /' mprime.sh # Do not start Prime95\n",
    "!sed -i '/^crontab / s/^/# /' mprime.sh # Do not create a cronjob\n",
    "!sed -i 's/\"mprime\"/\"mprime_cpu\"/' mprime.sh # Name the folder specific to the runtime type\n",
    "!bash -- mprime.sh psu # Replace 'psu' with your own username if you wish and, optionally, a name for the machine\n",
    "!cd mprime_cpu && chmod 777 mprime && ./mprime -d # Start Prime95. '-d' prevents VM from shutting down. "
   ]
  },
  {
   "cell_type": "code",
   "execution_count": null,
   "metadata": {},
   "outputs": [],
   "source": [
    "# RUNNING SUBSEQUENT TIMES: Restarting mprime when Colab/you shut the process/notebook down\n",
    "from google.colab import drive\n",
    "drive.mount('/content/gdrive')\n",
    "%cd gdrive/'My Drive'/\n",
    "\n",
    "# Run Mprime\n",
    "!cd mprime_cpu && chmod 777 mprime && ./mprime -d # `-d` prevents VM from shutting down."
   ]
  }
 ],
 "metadata": {
  "kernelspec": {
   "display_name": "Python 3",
   "language": "python",
   "name": "python3"
  },
  "language_info": {
   "codemirror_mode": {
    "name": "ipython",
    "version": 3
   },
   "file_extension": ".py",
   "mimetype": "text/x-python",
   "name": "python",
   "nbconvert_exporter": "python",
   "pygments_lexer": "ipython3",
   "version": "3.6.9"
  }
 },
 "nbformat": 4,
 "nbformat_minor": 2
}
