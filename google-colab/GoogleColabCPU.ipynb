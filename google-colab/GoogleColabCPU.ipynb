{
 "cells": [
  {
   "cell_type": "markdown",
   "metadata": {
    "colab_type": "text",
    "id": "view-in-github"
   },
   "source": [
    "(1 - Preferred). Create and save a new notebook to enable automatic re-mounting of drive storage. Copy and paste the below code into the new notebook and follow the directions in step X: <a href=\"http://colab.research.google.com/#create=true\" target=\"_parent\"><img src=\"https://colab.research.google.com/assets/colab-badge.svg\" alt=\"Open In Colab\"/></a>"
   ]
  },
  {
   "cell_type": "markdown",
   "metadata": {
    "colab_type": "text",
    "id": "view-in-github"
   },
   "source": [
    "(2 - 2nd Best Option). Open the pre-formed version of Colab (requires manual authorization each time a notebook is opened) <a href=\"https://colab.research.google.com/github/Danc2050/Distributed-Computing-Scripts/blob/master/google-colab/GoogleColabGPU.ipynb\" target=\"_parent\"><img src=\"https://colab.research.google.com/assets/colab-badge.svg\" alt=\"Open In Colab\"/></a>"
   ]
  },
  {
   "cell_type": "code",
   "execution_count": null,
   "metadata": {},
   "outputs": [],
   "source": [
    "#@title <strong> <h1>📔 Colab CPU Notebook</strong></h1> \n",
    "#{ output-height: 8, form-width: \"96%\", display-mode: \"form\" }\n",
    "\n",
    "#@markdown <h4>↖️ Click the ▶ button after deciding on the options below.</h4>\n",
    "#@markdown <h4>📜 See <a href=\"https://github.com/Danc2050/Distributed-Computing-Scripts/tree/master/google-colab\" target=\"_blank\">source code</a> for more information.</h4>\n",
    "#@markdown <h4>💡 Keep each notebook <strong>open</strong> in the browser or 📌 the tab to a <a href=\"https://support.mozilla.org/en-US/kb/pinned-tabs-keep-favorite-websites-open\" target=\"_blank\">dedicated window</a> to prevent disconnection.</h4>\n",
    "#@markdown <h4>🤷‍♂️ Optionally, create a GIMPS/PrimeNet account <a href=\"https://www.mersenne.org/update/\" target=\"_blank\">here</a>.</h4>\n",
    "\n",
    "prime_ID = 'Default' #@param ['Default'] {allow-input: true}\n",
    "computer_name = 'Default' #@param ['Default'] {allow-input: true}\n",
    "type_of_work = '100 - First time LL tests' #@param ['0 - Whatever makes the most sense', '100 - First time LL tests', '101 - Double-check LL tests', '102 - World record LL tests', '104 - 100 million digit LL tests', '150 - First time PRP tests', '151 - Double-check PRP tests', '152 - World record PRP tests', '154 - 100 million digit PRP tests']\n",
    "computer_number = \"Default (1)\" #@param [\"Default (1)\", \"2\"]{allow-input: true}\n",
    "debug = 'CPU (Prime95)' #@param ['False', 'CPU (Prime95)']\n",
    "\n",
    "import os\n",
    "\n",
    "def load_drive():\n",
    "  '''Load & cd into gdrive for persistent data'''\n",
    "  if os.path.exists(\"/content/gdrive/My Drive\"): # use our notebook\n",
    "    from google.colab import drive\n",
    "    drive.mount('/content/gdrive')\n",
    "    %cd gdrive/'My Drive'\n",
    "  elif os.path.exists(\"/content/drive/My Drive\"): # create your own notebook\n",
    "    %cd drive/'My Drive'\n",
    "\n",
    "def run():\n",
    "  '''Run Mprime'''\n",
    "  !cd mprime_cpu && chmod 777 mprime && ./mprime -A$computer_number -d | tee -a \"{'cpu' + computer_number + '.out'}\"\n",
    "\n",
    "def debug_exit():\n",
    "  '''Output of Prime95 CPU outputs'''\n",
    "  if debug == 'CPU (Prime95)' and os.path.exists('mprime_cpu/cpu' + computer_number + '.out'):\n",
    "    !echo -e \"\\nCPU (Prime95) output:\\n\" && tail -n 100 \"{'mprime_cpu/cpu' + computer_number + '.out'}\" && echo # view mprime progress\n",
    "  else:\n",
    "    print(f'No `{debug}` output file found for debug option and computer number `{computer_number}`.\\n')\n",
    "\n",
    "def install():\n",
    "  '''Download/Install/Configure Prime95'''\n",
    "  !wget https://raw.github.com/tdulcet/Linux-System-Information/master/info.sh -qO - | bash -s # Check System Info\n",
    "  !wget -N https://github.com/Danc2050/Distributed-Computing-Scripts/archive/master.zip -q\n",
    "  !unzip -o master.zip\n",
    "  !sed -i '/^nohup / s/^/# /' Distributed-Computing-Scripts-master/mprime2.sh # Do not start Prime95\n",
    "  !sed -i '/^crontab / s/^/# /' Distributed-Computing-Scripts-master/mprime2.sh # Do not create a cronjob\n",
    "  !sed -i 's/\"mprime\"/\"mprime_cpu\"/' Distributed-Computing-Scripts-master/mprime2.sh # Name the folder specific to the runtime type\n",
    "  !bash -- Distributed-Computing-Scripts-master/mprime2.sh $computer_number $prime_ID $computer_name $type_of_work # Run script\n",
    "  run()\n",
    "\n",
    "load_drive()\n",
    "\n",
    "# use/cleanup input from user\n",
    "prime_ID = 'psu' if prime_ID.lower() == 'default' else prime_ID\n",
    "computers_name = \"\" if computer_name.lower() == 'default' else computer_name\n",
    "type_of_work = type_of_work.split(\"-\")[0].rstrip()\n",
    "computer_number = \"1\" if computer_number.lower() == 'default (1)' else computer_number\n",
    "debug = False if debug == 'False' else debug\n",
    "\n",
    "if debug:\n",
    "  debug_exit()\n",
    "\n",
    "elif os.path.exists('mprime_cpu/work000' + computer_number + '.txt'):\n",
    "  run()\n",
    "\n",
    "else:\n",
    "  install()\n",
    "\n",
    "print(\"Gracefully exiting...\")"
   ]
  }
 ],
 "metadata": {
  "kernelspec": {
   "display_name": "Python 3",
   "language": "python",
   "name": "python3"
  },
  "language_info": {
   "codemirror_mode": {
    "name": "ipython",
    "version": 3
   },
   "file_extension": ".py",
   "mimetype": "text/x-python",
   "name": "python",
   "nbconvert_exporter": "python",
   "pygments_lexer": "ipython3",
   "version": "3.6.9"
  }
 },
 "nbformat": 4,
 "nbformat_minor": 2
}
