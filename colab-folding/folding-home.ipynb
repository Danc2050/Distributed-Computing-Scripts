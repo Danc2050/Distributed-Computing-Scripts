{
 "cells": [
  {
   "cell_type": "code",
   "execution_count": 0,
   "metadata": {
    "colab": {},
    "colab_type": "code",
    "id": "uFTvjsoB3wdL"
   },
   "outputs": [],
   "source": [
    "# RUNNING FOR THE FIRST TIME: Load & cd into gdrive for persistent data\n",
    "#from google.colab import drive\n",
    "#drive.mount('/content/gdrive')\n",
    "#%cd gdrive/'My Drive'\n",
    "#!sudo su\n",
    "#!bash -- export RUNLEVEL=1\n",
    "\n",
    "# Check System Info\n",
    "!wget https://raw.github.com/tdulcet/Linux-System-Information/master/info.sh -qO - | bash -s\n",
    "# Download/Install/Configure Folding@Home\n",
    "!wget https://raw.github.com/tdulcet/Distributed-Computing-Scripts/master/folding.sh -qO - | bash -s -- \"danc2\" \"42011\" \"eb21867ddd529c66eb21867ddd529c66\" \"full\"\n",
    "#!./folding.sh [\"Username\"] [\"Team number\"] [\"Passkey\"] [\"Power\"]\n",
    "#!./folding.sh \"danc2\" \"42011\" \"eb21867ddd529c66eb21867ddd529c66\" \"full\""
   ]
  },
  {
   "cell_type": "code",
   "execution_count": 0,
   "metadata": {
    "colab": {},
    "colab_type": "code",
    "id": "8yjN6YSt4Sj2"
   },
   "outputs": [],
   "source": [
    "!sudo apt install python # installs python2.7\n",
    "!sudo apt install python-gtk2\n",
    "!equivs-control python-gnome2\n",
    "!equivs-build python-gnome2\n",
    "!sudo dpkg -i ./python-gnome2_42_all.deb\n",
    "!sudo dpkg -i ./fahcontrol_7.5.1-1_all.deb "
   ]
  },
  {
   "cell_type": "code",
   "execution_count": 13,
   "metadata": {
    "colab": {
     "base_uri": "https://localhost:8080/",
     "height": 700
    },
    "colab_type": "code",
    "id": "wE4B4SYt80gJ",
    "outputId": "3b469e96-fe92-4e1e-e4d5-1ee4f186c06c"
   },
   "outputs": [
    {
     "name": "stdout",
     "output_type": "stream",
     "text": [
      "\r",
      "0% [Working]\r",
      "            \r",
      "Hit:1 https://cloud.r-project.org/bin/linux/ubuntu bionic-cran35/ InRelease\n",
      "\r",
      "0% [Waiting for headers] [Waiting for headers] [Waiting for headers] [Waiting f\r",
      "0% [1 InRelease gpgv 3,626 B] [Waiting for headers] [Waiting for headers] [Wait\r",
      "                                                                               \r",
      "Ign:2 https://developer.download.nvidia.com/compute/cuda/repos/ubuntu1804/x86_64  InRelease\n",
      "\r",
      "0% [1 InRelease gpgv 3,626 B] [Waiting for headers] [Waiting for headers] [Wait\r",
      "                                                                               \r",
      "Hit:3 http://security.ubuntu.com/ubuntu bionic-security InRelease\n",
      "\r",
      "0% [1 InRelease gpgv 3,626 B] [Waiting for headers] [Waiting for headers] [Wait\r",
      "                                                                               \r",
      "Hit:4 http://ppa.launchpad.net/graphics-drivers/ppa/ubuntu bionic InRelease\n",
      "\r",
      "0% [1 InRelease gpgv 3,626 B] [Waiting for headers] [Waiting for headers] [Conn\r",
      "                                                                               \r",
      "Hit:5 http://archive.ubuntu.com/ubuntu bionic InRelease\n",
      "\r",
      "0% [1 InRelease gpgv 3,626 B] [Waiting for headers] [Waiting for headers] [Conn\r",
      "                                                                               \r",
      "Ign:6 https://developer.download.nvidia.com/compute/machine-learning/repos/ubuntu1804/x86_64  InRelease\n",
      "\r",
      "0% [1 InRelease gpgv 3,626 B] [Waiting for headers] [Connecting to ppa.launchpa\r",
      "0% [Waiting for headers] [Waiting for headers] [Connecting to ppa.launchpad.net\r",
      "0% [3 InRelease gpgv 88.7 kB] [Waiting for headers] [Waiting for headers] [Conn\r",
      "                                                                               \r",
      "Hit:7 https://developer.download.nvidia.com/compute/cuda/repos/ubuntu1804/x86_64  Release\n",
      "\r",
      "0% [3 InRelease gpgv 88.7 kB] [Waiting for headers] [Connecting to ppa.launchpa\r",
      "                                                                               \r",
      "Hit:8 https://developer.download.nvidia.com/compute/machine-learning/repos/ubuntu1804/x86_64  Release\n",
      "Hit:9 http://archive.ubuntu.com/ubuntu bionic-updates InRelease\n",
      "Hit:10 http://ppa.launchpad.net/marutter/c2d4u3.5/ubuntu bionic InRelease\n",
      "Hit:11 http://archive.ubuntu.com/ubuntu bionic-backports InRelease\n",
      "Reading package lists... Done\n",
      "Reading package lists... Done\n",
      "Building dependency tree       \n",
      "Reading state information... Done\n",
      "Calculating upgrade... Done\n",
      "The following packages have been kept back:\n",
      "  libcudnn7 libcudnn7-dev libnccl-dev libnccl2\n",
      "0 upgraded, 0 newly installed, 0 to remove and 4 not upgraded.\n",
      "Hit:1 http://security.ubuntu.com/ubuntu bionic-security InRelease\n",
      "Ign:2 https://developer.download.nvidia.com/compute/cuda/repos/ubuntu1804/x86_64  InRelease\n",
      "Hit:3 https://cloud.r-project.org/bin/linux/ubuntu bionic-cran35/ InRelease\n",
      "Hit:4 http://ppa.launchpad.net/graphics-drivers/ppa/ubuntu bionic InRelease\n",
      "Hit:5 http://archive.ubuntu.com/ubuntu bionic InRelease\n",
      "Ign:6 https://developer.download.nvidia.com/compute/machine-learning/repos/ubuntu1804/x86_64  InRelease\n",
      "Hit:7 https://developer.download.nvidia.com/compute/cuda/repos/ubuntu1804/x86_64  Release\n",
      "Hit:8 https://developer.download.nvidia.com/compute/machine-learning/repos/ubuntu1804/x86_64  Release\n",
      "Hit:9 http://archive.ubuntu.com/ubuntu bionic-updates InRelease\n",
      "Hit:10 http://ppa.launchpad.net/marutter/c2d4u3.5/ubuntu bionic InRelease\n",
      "Hit:11 http://archive.ubuntu.com/ubuntu bionic-backports InRelease\n",
      "Reading package lists... Done\n",
      "Building dependency tree       \n",
      "Reading state information... Done\n",
      "4 packages can be upgraded. Run 'apt list --upgradable' to see them.\n",
      "Reading package lists... Done\n",
      "Building dependency tree       \n",
      "Reading state information... Done\n",
      "Calculating upgrade... Done\n",
      "The following packages have been kept back:\n",
      "  libcudnn7 libcudnn7-dev libnccl-dev libnccl2\n",
      "0 upgraded, 0 newly installed, 0 to remove and 4 not upgraded.\n"
     ]
    }
   ],
   "source": [
    "!sudo apt-get update\n",
    "!sudo apt-get upgrade\n",
    "!sudo apt update\n",
    "!sudo apt upgrade"
   ]
  },
  {
   "cell_type": "code",
   "execution_count": 11,
   "metadata": {
    "colab": {
     "base_uri": "https://localhost:8080/",
     "height": 83
    },
    "colab_type": "code",
    "id": "jQ4uBa2g9wi_",
    "outputId": "2180bd4f-cf17-453e-b490-4bfa9c2fe331"
   },
   "outputs": [
    {
     "name": "stdout",
     "output_type": "stream",
     "text": [
      "Reading package lists... Done\n",
      "Building dependency tree       \n",
      "Reading state information... Done\n",
      "0 upgraded, 0 newly installed, 0 to remove and 25 not upgraded.\n"
     ]
    }
   ],
   "source": [
    "!sudo apt --fix-broken install"
   ]
  },
  {
   "cell_type": "code",
   "execution_count": 0,
   "metadata": {
    "colab": {},
    "colab_type": "code",
    "id": "B1PncaJy9xnS"
   },
   "outputs": [],
   "source": [
    "%rm -r folding"
   ]
  },
  {
   "cell_type": "code",
   "execution_count": 20,
   "metadata": {
    "colab": {
     "base_uri": "https://localhost:8080/",
     "height": 33
    },
    "colab_type": "code",
    "id": "qDoBH8RX-SZv",
    "outputId": "c2ffbc19-3873-41a6-cfb1-51673ff4ee5c"
   },
   "outputs": [
    {
     "name": "stdout",
     "output_type": "stream",
     "text": [
      "folding  sample_data\n"
     ]
    }
   ],
   "source": [
    "!ls"
   ]
  },
  {
   "cell_type": "code",
   "execution_count": 13,
   "metadata": {
    "colab": {
     "base_uri": "https://localhost:8080/",
     "height": 33
    },
    "colab_type": "code",
    "id": "b1BXqsLj_r6e",
    "outputId": "6a1ff218-efa5-48f8-83f1-f4227a9abc98"
   },
   "outputs": [
    {
     "name": "stdout",
     "output_type": "stream",
     "text": [
      "/content/folding\n"
     ]
    }
   ],
   "source": [
    "%cd folding"
   ]
  },
  {
   "cell_type": "code",
   "execution_count": 16,
   "metadata": {
    "colab": {
     "base_uri": "https://localhost:8080/",
     "height": 33
    },
    "colab_type": "code",
    "id": "7n3ap48gAhpN",
    "outputId": "77f67945-e5f6-4830-f8b8-c9fbfc1bdbb8"
   },
   "outputs": [
    {
     "name": "stdout",
     "output_type": "stream",
     "text": [
      "/content\n"
     ]
    }
   ],
   "source": [
    "%cd .."
   ]
  },
  {
   "cell_type": "code",
   "execution_count": 21,
   "metadata": {
    "colab": {
     "base_uri": "https://localhost:8080/",
     "height": 533
    },
    "colab_type": "code",
    "id": "XUKkPo4QBGIF",
    "outputId": "156832a2-f641-43b7-e014-2da89c1c52e6"
   },
   "outputs": [
    {
     "name": "stdout",
     "output_type": "stream",
     "text": [
      "\u001b[?1h\u001b=\u001b[H\u001b[2J\u001b[mtop - 06:11:25 up 22 min,  0 users,  load average: 0.10, 0.11, 0.14\u001b[m\u001b[m\u001b[m\u001b[m\u001b[K\n",
      "Tasks:\u001b[m\u001b[m\u001b[1m   8 \u001b[m\u001b[mtotal,\u001b[m\u001b[m\u001b[1m   1 \u001b[m\u001b[mrunning,\u001b[m\u001b[m\u001b[1m   7 \u001b[m\u001b[msleeping,\u001b[m\u001b[m\u001b[1m   0 \u001b[m\u001b[mstopped,\u001b[m\u001b[m\u001b[1m   0 \u001b[m\u001b[mzombie\u001b[m\u001b[m\u001b[m\u001b[m\u001b[K\n",
      "%Cpu(s):\u001b[m\u001b[m\u001b[1m  3.6 \u001b[m\u001b[mus,\u001b[m\u001b[m\u001b[1m  1.4 \u001b[m\u001b[msy,\u001b[m\u001b[m\u001b[1m  0.0 \u001b[m\u001b[mni,\u001b[m\u001b[m\u001b[1m 93.2 \u001b[m\u001b[mid,\u001b[m\u001b[m\u001b[1m  1.7 \u001b[m\u001b[mwa,\u001b[m\u001b[m\u001b[1m  0.0 \u001b[m\u001b[mhi,\u001b[m\u001b[m\u001b[1m  0.0 \u001b[m\u001b[msi,\u001b[m\u001b[m\u001b[1m  0.0 \u001b[m\u001b[mst\u001b[m\u001b[m\u001b[m\u001b[m\u001b[K\n",
      "KiB Mem :\u001b[m\u001b[m\u001b[1m 13335188 \u001b[m\u001b[mtotal,\u001b[m\u001b[m\u001b[1m  8458508 \u001b[m\u001b[mfree,\u001b[m\u001b[m\u001b[1m   558384 \u001b[m\u001b[mused,\u001b[m\u001b[m\u001b[1m  4318296 \u001b[m\u001b[mbuff/cache\u001b[m\u001b[m\u001b[m\u001b[m\u001b[K\n",
      "KiB Swap:\u001b[m\u001b[m\u001b[1m        0 \u001b[m\u001b[mtotal,\u001b[m\u001b[m\u001b[1m        0 \u001b[m\u001b[mfree,\u001b[m\u001b[m\u001b[1m        0 \u001b[m\u001b[mused.\u001b[m\u001b[m\u001b[1m 12483044 \u001b[m\u001b[mavail Mem \u001b[m\u001b[m\u001b[m\u001b[m\u001b[K\n",
      "\u001b[K\n",
      "\u001b[7m    PID USER      PR  NI    VIRT    RES    SHR S  %CPU %MEM     TIME+ COMMAND   \u001b[m\u001b[m\u001b[K\n",
      "\u001b[m     22 root      20   0  405212 100844  25956 S   6.2  0.8   0:05.31 jupyter-+ \u001b[m\u001b[m\u001b[K\n",
      "\u001b[m   7898 root      20   0  647868 155280  61980 S   6.2  1.2   0:03.15 python3   \u001b[m\u001b[m\u001b[K\n",
      "\u001b[m      1 root      20   0   39196   6340   4832 S   0.0  0.0   0:00.03 run.sh    \u001b[m\u001b[m\u001b[K\n",
      "\u001b[m     12 root      20   0  685716  56872  24972 S   0.0  0.4   0:02.97 node      \u001b[m\u001b[m\u001b[K\n",
      "\u001b[m    115 root      20   0   35888   4804   3692 S   0.0  0.0   0:00.08 tail      \u001b[m\u001b[m\u001b[K\n",
      "\u001b[m    159 root      20   0   18376   1624   1328 S   0.0  0.0   0:00.55 bash      \u001b[m\u001b[m\u001b[K\n",
      "\u001b[m\u001b[1m   9760 root      20   0   63180   6732   4992 R   0.0  0.1   0:00.00 top       \u001b[m\u001b[m\u001b[K\n",
      "\u001b[m   9761 root      20   0    4532    764    700 S   0.0  0.0   0:00.00 sleep     \u001b[m\u001b[m\u001b[K\n",
      "\u001b[J\u001b[H\u001b[mtop - 06:11:28 up 22 min,  0 users,  load average: 0.10, 0.11, 0.14\u001b[m\u001b[m\u001b[m\u001b[m\u001b[K\n",
      "Tasks:\u001b[m\u001b[m\u001b[1m   8 \u001b[m\u001b[mtotal,\u001b[m\u001b[m\u001b[1m   1 \u001b[m\u001b[mrunning,\u001b[m\u001b[m\u001b[1m   7 \u001b[m\u001b[msleeping,\u001b[m\u001b[m\u001b[1m   0 \u001b[m\u001b[mstopped,\u001b[m\u001b[m\u001b[1m   0 \u001b[m\u001b[mzombie\u001b[m\u001b[m\u001b[m\u001b[m\u001b[K\n",
      "%Cpu(s):\u001b[m\u001b[m\u001b[1m  0.7 \u001b[m\u001b[mus,\u001b[m\u001b[m\u001b[1m  0.2 \u001b[m\u001b[msy,\u001b[m\u001b[m\u001b[1m  0.0 \u001b[m\u001b[mni,\u001b[m\u001b[m\u001b[1m 99.2 \u001b[m\u001b[mid,\u001b[m\u001b[m\u001b[1m  0.0 \u001b[m\u001b[mwa,\u001b[m\u001b[m\u001b[1m  0.0 \u001b[m\u001b[mhi,\u001b[m\u001b[m\u001b[1m  0.0 \u001b[m\u001b[msi,\u001b[m\u001b[m\u001b[1m  0.0 \u001b[m\u001b[mst\u001b[m\u001b[m\u001b[m\u001b[m\u001b[K\n",
      "KiB Mem :\u001b[m\u001b[m\u001b[1m 13335188 \u001b[m\u001b[mtotal,\u001b[m\u001b[m\u001b[1m  8458648 \u001b[m\u001b[mfree,\u001b[m\u001b[m\u001b[1m   558128 \u001b[m\u001b[mused,\u001b[m\u001b[m\u001b[1m  4318412 \u001b[m\u001b[mbuff/cache\u001b[m\u001b[m\u001b[m\u001b[m\u001b[K\n",
      "KiB Swap:\u001b[m\u001b[m\u001b[1m        0 \u001b[m\u001b[mtotal,\u001b[m\u001b[m\u001b[1m        0 \u001b[m\u001b[mfree,\u001b[m\u001b[m\u001b[1m        0 \u001b[m\u001b[mused.\u001b[m\u001b[m\u001b[1m 12483300 \u001b[m\u001b[mavail Mem \u001b[m\u001b[m\u001b[m\u001b[m\u001b[K\n",
      "\u001b[K\n",
      "\n",
      "\u001b[m   7898 root      20   0  647868 155280  61980 S   0.3  1.2   0:03.16 python3   \u001b[m\u001b[m\u001b[K\n",
      "\u001b[m      1 root      20   0   39196   6340   4832 S   0.0  0.0   0:00.03 run.sh    \u001b[m\u001b[m\u001b[K\n",
      "\u001b[m     12 root      20   0  685716  57136  24972 S   0.0  0.4   0:02.97 node      \u001b[m\u001b[m\u001b[K\n",
      "\u001b[m     22 root      20   0  405212 100844  25956 S   0.0  0.8   0:05.31 jupyter-+ \u001b[m\u001b[m\u001b[K\n",
      "\n",
      "\n",
      "\n",
      "\u001b[m   9767 root      20   0    4532    728    668 S   0.0  0.0   0:00.00 sleep     \u001b[m\u001b[m\u001b[K\n",
      "\u001b[J\u001b[?1l\u001b>\u001b[25;1H\n",
      "\u001b[K"
     ]
    }
   ],
   "source": [
    "!top"
   ]
  },
  {
   "cell_type": "code",
   "execution_count": 0,
   "metadata": {
    "colab": {},
    "colab_type": "code",
    "id": "1uhrLAu2BGkX"
   },
   "outputs": [],
   "source": []
  }
 ],
 "metadata": {
  "colab": {
   "name": "folding@home.ipynb",
   "provenance": []
  },
  "kernelspec": {
   "display_name": "Python 3",
   "language": "python",
   "name": "python3"
  },
  "language_info": {
   "codemirror_mode": {
    "name": "ipython",
    "version": 3
   },
   "file_extension": ".py",
   "mimetype": "text/x-python",
   "name": "python",
   "nbconvert_exporter": "python",
   "pygments_lexer": "ipython3",
   "version": "3.6.9"
  }
 },
 "nbformat": 4,
 "nbformat_minor": 1
}
